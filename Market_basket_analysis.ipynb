{
  "nbformat": 4,
  "nbformat_minor": 0,
  "metadata": {
    "colab": {
      "name": "Market-basket-analysis.ipynb",
      "provenance": [],
      "collapsed_sections": [],
      "authorship_tag": "ABX9TyPB31b2g4qL7O39WklM/zbu",
      "include_colab_link": true
    },
    "kernelspec": {
      "name": "python3",
      "display_name": "Python 3"
    },
    "language_info": {
      "name": "python"
    }
  },
  "cells": [
    {
      "cell_type": "markdown",
      "metadata": {
        "id": "view-in-github",
        "colab_type": "text"
      },
      "source": [
        "<a href=\"https://colab.research.google.com/github/nhnam1105/basket-market-analysis/blob/master/Market_basket_analysis.ipynb\" target=\"_parent\"><img src=\"https://colab.research.google.com/assets/colab-badge.svg\" alt=\"Open In Colab\"/></a>"
      ]
    },
    {
      "cell_type": "code",
      "metadata": {
        "colab": {
          "base_uri": "https://localhost:8080/"
        },
        "id": "zlJiIv3uBKCY",
        "outputId": "e5717083-8802-4573-a96a-9fd22ce3891f"
      },
      "source": [
        "!pip install pyspark"
      ],
      "execution_count": null,
      "outputs": [
        {
          "output_type": "stream",
          "name": "stdout",
          "text": [
            "Collecting pyspark\n",
            "  Downloading pyspark-3.1.2.tar.gz (212.4 MB)\n",
            "\u001b[K     |████████████████████████████████| 212.4 MB 59 kB/s \n",
            "\u001b[?25hCollecting py4j==0.10.9\n",
            "  Downloading py4j-0.10.9-py2.py3-none-any.whl (198 kB)\n",
            "\u001b[K     |████████████████████████████████| 198 kB 63.5 MB/s \n",
            "\u001b[?25hBuilding wheels for collected packages: pyspark\n",
            "  Building wheel for pyspark (setup.py) ... \u001b[?25l\u001b[?25hdone\n",
            "  Created wheel for pyspark: filename=pyspark-3.1.2-py2.py3-none-any.whl size=212880768 sha256=afb908ee7691c69738f2b891d8530a45355de3a9d9bebe59c097214e8ad47fa6\n",
            "  Stored in directory: /root/.cache/pip/wheels/a5/0a/c1/9561f6fecb759579a7d863dcd846daaa95f598744e71b02c77\n",
            "Successfully built pyspark\n",
            "Installing collected packages: py4j, pyspark\n",
            "Successfully installed py4j-0.10.9 pyspark-3.1.2\n"
          ]
        }
      ]
    },
    {
      "cell_type": "code",
      "metadata": {
        "id": "H6IJkUYZBinD"
      },
      "source": [
        ""
      ],
      "execution_count": null,
      "outputs": []
    },
    {
      "cell_type": "code",
      "metadata": {
        "colab": {
          "resources": {
            "http://localhost:8080/nbextensions/google.colab/files.js": {
              "data": "Ly8gQ29weXJpZ2h0IDIwMTcgR29vZ2xlIExMQwovLwovLyBMaWNlbnNlZCB1bmRlciB0aGUgQXBhY2hlIExpY2Vuc2UsIFZlcnNpb24gMi4wICh0aGUgIkxpY2Vuc2UiKTsKLy8geW91IG1heSBub3QgdXNlIHRoaXMgZmlsZSBleGNlcHQgaW4gY29tcGxpYW5jZSB3aXRoIHRoZSBMaWNlbnNlLgovLyBZb3UgbWF5IG9idGFpbiBhIGNvcHkgb2YgdGhlIExpY2Vuc2UgYXQKLy8KLy8gICAgICBodHRwOi8vd3d3LmFwYWNoZS5vcmcvbGljZW5zZXMvTElDRU5TRS0yLjAKLy8KLy8gVW5sZXNzIHJlcXVpcmVkIGJ5IGFwcGxpY2FibGUgbGF3IG9yIGFncmVlZCB0byBpbiB3cml0aW5nLCBzb2Z0d2FyZQovLyBkaXN0cmlidXRlZCB1bmRlciB0aGUgTGljZW5zZSBpcyBkaXN0cmlidXRlZCBvbiBhbiAiQVMgSVMiIEJBU0lTLAovLyBXSVRIT1VUIFdBUlJBTlRJRVMgT1IgQ09ORElUSU9OUyBPRiBBTlkgS0lORCwgZWl0aGVyIGV4cHJlc3Mgb3IgaW1wbGllZC4KLy8gU2VlIHRoZSBMaWNlbnNlIGZvciB0aGUgc3BlY2lmaWMgbGFuZ3VhZ2UgZ292ZXJuaW5nIHBlcm1pc3Npb25zIGFuZAovLyBsaW1pdGF0aW9ucyB1bmRlciB0aGUgTGljZW5zZS4KCi8qKgogKiBAZmlsZW92ZXJ2aWV3IEhlbHBlcnMgZm9yIGdvb2dsZS5jb2xhYiBQeXRob24gbW9kdWxlLgogKi8KKGZ1bmN0aW9uKHNjb3BlKSB7CmZ1bmN0aW9uIHNwYW4odGV4dCwgc3R5bGVBdHRyaWJ1dGVzID0ge30pIHsKICBjb25zdCBlbGVtZW50ID0gZG9jdW1lbnQuY3JlYXRlRWxlbWVudCgnc3BhbicpOwogIGVsZW1lbnQudGV4dENvbnRlbnQgPSB0ZXh0OwogIGZvciAoY29uc3Qga2V5IG9mIE9iamVjdC5rZXlzKHN0eWxlQXR0cmlidXRlcykpIHsKICAgIGVsZW1lbnQuc3R5bGVba2V5XSA9IHN0eWxlQXR0cmlidXRlc1trZXldOwogIH0KICByZXR1cm4gZWxlbWVudDsKfQoKLy8gTWF4IG51bWJlciBvZiBieXRlcyB3aGljaCB3aWxsIGJlIHVwbG9hZGVkIGF0IGEgdGltZS4KY29uc3QgTUFYX1BBWUxPQURfU0laRSA9IDEwMCAqIDEwMjQ7CgpmdW5jdGlvbiBfdXBsb2FkRmlsZXMoaW5wdXRJZCwgb3V0cHV0SWQpIHsKICBjb25zdCBzdGVwcyA9IHVwbG9hZEZpbGVzU3RlcChpbnB1dElkLCBvdXRwdXRJZCk7CiAgY29uc3Qgb3V0cHV0RWxlbWVudCA9IGRvY3VtZW50LmdldEVsZW1lbnRCeUlkKG91dHB1dElkKTsKICAvLyBDYWNoZSBzdGVwcyBvbiB0aGUgb3V0cHV0RWxlbWVudCB0byBtYWtlIGl0IGF2YWlsYWJsZSBmb3IgdGhlIG5leHQgY2FsbAogIC8vIHRvIHVwbG9hZEZpbGVzQ29udGludWUgZnJvbSBQeXRob24uCiAgb3V0cHV0RWxlbWVudC5zdGVwcyA9IHN0ZXBzOwoKICByZXR1cm4gX3VwbG9hZEZpbGVzQ29udGludWUob3V0cHV0SWQpOwp9CgovLyBUaGlzIGlzIHJvdWdobHkgYW4gYXN5bmMgZ2VuZXJhdG9yIChub3Qgc3VwcG9ydGVkIGluIHRoZSBicm93c2VyIHlldCksCi8vIHdoZXJlIHRoZXJlIGFyZSBtdWx0aXBsZSBhc3luY2hyb25vdXMgc3RlcHMgYW5kIHRoZSBQeXRob24gc2lkZSBpcyBnb2luZwovLyB0byBwb2xsIGZvciBjb21wbGV0aW9uIG9mIGVhY2ggc3RlcC4KLy8gVGhpcyB1c2VzIGEgUHJvbWlzZSB0byBibG9jayB0aGUgcHl0aG9uIHNpZGUgb24gY29tcGxldGlvbiBvZiBlYWNoIHN0ZXAsCi8vIHRoZW4gcGFzc2VzIHRoZSByZXN1bHQgb2YgdGhlIHByZXZpb3VzIHN0ZXAgYXMgdGhlIGlucHV0IHRvIHRoZSBuZXh0IHN0ZXAuCmZ1bmN0aW9uIF91cGxvYWRGaWxlc0NvbnRpbnVlKG91dHB1dElkKSB7CiAgY29uc3Qgb3V0cHV0RWxlbWVudCA9IGRvY3VtZW50LmdldEVsZW1lbnRCeUlkKG91dHB1dElkKTsKICBjb25zdCBzdGVwcyA9IG91dHB1dEVsZW1lbnQuc3RlcHM7CgogIGNvbnN0IG5leHQgPSBzdGVwcy5uZXh0KG91dHB1dEVsZW1lbnQubGFzdFByb21pc2VWYWx1ZSk7CiAgcmV0dXJuIFByb21pc2UucmVzb2x2ZShuZXh0LnZhbHVlLnByb21pc2UpLnRoZW4oKHZhbHVlKSA9PiB7CiAgICAvLyBDYWNoZSB0aGUgbGFzdCBwcm9taXNlIHZhbHVlIHRvIG1ha2UgaXQgYXZhaWxhYmxlIHRvIHRoZSBuZXh0CiAgICAvLyBzdGVwIG9mIHRoZSBnZW5lcmF0b3IuCiAgICBvdXRwdXRFbGVtZW50Lmxhc3RQcm9taXNlVmFsdWUgPSB2YWx1ZTsKICAgIHJldHVybiBuZXh0LnZhbHVlLnJlc3BvbnNlOwogIH0pOwp9CgovKioKICogR2VuZXJhdG9yIGZ1bmN0aW9uIHdoaWNoIGlzIGNhbGxlZCBiZXR3ZWVuIGVhY2ggYXN5bmMgc3RlcCBvZiB0aGUgdXBsb2FkCiAqIHByb2Nlc3MuCiAqIEBwYXJhbSB7c3RyaW5nfSBpbnB1dElkIEVsZW1lbnQgSUQgb2YgdGhlIGlucHV0IGZpbGUgcGlja2VyIGVsZW1lbnQuCiAqIEBwYXJhbSB7c3RyaW5nfSBvdXRwdXRJZCBFbGVtZW50IElEIG9mIHRoZSBvdXRwdXQgZGlzcGxheS4KICogQHJldHVybiB7IUl0ZXJhYmxlPCFPYmplY3Q+fSBJdGVyYWJsZSBvZiBuZXh0IHN0ZXBzLgogKi8KZnVuY3Rpb24qIHVwbG9hZEZpbGVzU3RlcChpbnB1dElkLCBvdXRwdXRJZCkgewogIGNvbnN0IGlucHV0RWxlbWVudCA9IGRvY3VtZW50LmdldEVsZW1lbnRCeUlkKGlucHV0SWQpOwogIGlucHV0RWxlbWVudC5kaXNhYmxlZCA9IGZhbHNlOwoKICBjb25zdCBvdXRwdXRFbGVtZW50ID0gZG9jdW1lbnQuZ2V0RWxlbWVudEJ5SWQob3V0cHV0SWQpOwogIG91dHB1dEVsZW1lbnQuaW5uZXJIVE1MID0gJyc7CgogIGNvbnN0IHBpY2tlZFByb21pc2UgPSBuZXcgUHJvbWlzZSgocmVzb2x2ZSkgPT4gewogICAgaW5wdXRFbGVtZW50LmFkZEV2ZW50TGlzdGVuZXIoJ2NoYW5nZScsIChlKSA9PiB7CiAgICAgIHJlc29sdmUoZS50YXJnZXQuZmlsZXMpOwogICAgfSk7CiAgfSk7CgogIGNvbnN0IGNhbmNlbCA9IGRvY3VtZW50LmNyZWF0ZUVsZW1lbnQoJ2J1dHRvbicpOwogIGlucHV0RWxlbWVudC5wYXJlbnRFbGVtZW50LmFwcGVuZENoaWxkKGNhbmNlbCk7CiAgY2FuY2VsLnRleHRDb250ZW50ID0gJ0NhbmNlbCB1cGxvYWQnOwogIGNvbnN0IGNhbmNlbFByb21pc2UgPSBuZXcgUHJvbWlzZSgocmVzb2x2ZSkgPT4gewogICAgY2FuY2VsLm9uY2xpY2sgPSAoKSA9PiB7CiAgICAgIHJlc29sdmUobnVsbCk7CiAgICB9OwogIH0pOwoKICAvLyBXYWl0IGZvciB0aGUgdXNlciB0byBwaWNrIHRoZSBmaWxlcy4KICBjb25zdCBmaWxlcyA9IHlpZWxkIHsKICAgIHByb21pc2U6IFByb21pc2UucmFjZShbcGlja2VkUHJvbWlzZSwgY2FuY2VsUHJvbWlzZV0pLAogICAgcmVzcG9uc2U6IHsKICAgICAgYWN0aW9uOiAnc3RhcnRpbmcnLAogICAgfQogIH07CgogIGNhbmNlbC5yZW1vdmUoKTsKCiAgLy8gRGlzYWJsZSB0aGUgaW5wdXQgZWxlbWVudCBzaW5jZSBmdXJ0aGVyIHBpY2tzIGFyZSBub3QgYWxsb3dlZC4KICBpbnB1dEVsZW1lbnQuZGlzYWJsZWQgPSB0cnVlOwoKICBpZiAoIWZpbGVzKSB7CiAgICByZXR1cm4gewogICAgICByZXNwb25zZTogewogICAgICAgIGFjdGlvbjogJ2NvbXBsZXRlJywKICAgICAgfQogICAgfTsKICB9CgogIGZvciAoY29uc3QgZmlsZSBvZiBmaWxlcykgewogICAgY29uc3QgbGkgPSBkb2N1bWVudC5jcmVhdGVFbGVtZW50KCdsaScpOwogICAgbGkuYXBwZW5kKHNwYW4oZmlsZS5uYW1lLCB7Zm9udFdlaWdodDogJ2JvbGQnfSkpOwogICAgbGkuYXBwZW5kKHNwYW4oCiAgICAgICAgYCgke2ZpbGUudHlwZSB8fCAnbi9hJ30pIC0gJHtmaWxlLnNpemV9IGJ5dGVzLCBgICsKICAgICAgICBgbGFzdCBtb2RpZmllZDogJHsKICAgICAgICAgICAgZmlsZS5sYXN0TW9kaWZpZWREYXRlID8gZmlsZS5sYXN0TW9kaWZpZWREYXRlLnRvTG9jYWxlRGF0ZVN0cmluZygpIDoKICAgICAgICAgICAgICAgICAgICAgICAgICAgICAgICAgICAgJ24vYSd9IC0gYCkpOwogICAgY29uc3QgcGVyY2VudCA9IHNwYW4oJzAlIGRvbmUnKTsKICAgIGxpLmFwcGVuZENoaWxkKHBlcmNlbnQpOwoKICAgIG91dHB1dEVsZW1lbnQuYXBwZW5kQ2hpbGQobGkpOwoKICAgIGNvbnN0IGZpbGVEYXRhUHJvbWlzZSA9IG5ldyBQcm9taXNlKChyZXNvbHZlKSA9PiB7CiAgICAgIGNvbnN0IHJlYWRlciA9IG5ldyBGaWxlUmVhZGVyKCk7CiAgICAgIHJlYWRlci5vbmxvYWQgPSAoZSkgPT4gewogICAgICAgIHJlc29sdmUoZS50YXJnZXQucmVzdWx0KTsKICAgICAgfTsKICAgICAgcmVhZGVyLnJlYWRBc0FycmF5QnVmZmVyKGZpbGUpOwogICAgfSk7CiAgICAvLyBXYWl0IGZvciB0aGUgZGF0YSB0byBiZSByZWFkeS4KICAgIGxldCBmaWxlRGF0YSA9IHlpZWxkIHsKICAgICAgcHJvbWlzZTogZmlsZURhdGFQcm9taXNlLAogICAgICByZXNwb25zZTogewogICAgICAgIGFjdGlvbjogJ2NvbnRpbnVlJywKICAgICAgfQogICAgfTsKCiAgICAvLyBVc2UgYSBjaHVua2VkIHNlbmRpbmcgdG8gYXZvaWQgbWVzc2FnZSBzaXplIGxpbWl0cy4gU2VlIGIvNjIxMTU2NjAuCiAgICBsZXQgcG9zaXRpb24gPSAwOwogICAgZG8gewogICAgICBjb25zdCBsZW5ndGggPSBNYXRoLm1pbihmaWxlRGF0YS5ieXRlTGVuZ3RoIC0gcG9zaXRpb24sIE1BWF9QQVlMT0FEX1NJWkUpOwogICAgICBjb25zdCBjaHVuayA9IG5ldyBVaW50OEFycmF5KGZpbGVEYXRhLCBwb3NpdGlvbiwgbGVuZ3RoKTsKICAgICAgcG9zaXRpb24gKz0gbGVuZ3RoOwoKICAgICAgY29uc3QgYmFzZTY0ID0gYnRvYShTdHJpbmcuZnJvbUNoYXJDb2RlLmFwcGx5KG51bGwsIGNodW5rKSk7CiAgICAgIHlpZWxkIHsKICAgICAgICByZXNwb25zZTogewogICAgICAgICAgYWN0aW9uOiAnYXBwZW5kJywKICAgICAgICAgIGZpbGU6IGZpbGUubmFtZSwKICAgICAgICAgIGRhdGE6IGJhc2U2NCwKICAgICAgICB9LAogICAgICB9OwoKICAgICAgbGV0IHBlcmNlbnREb25lID0gZmlsZURhdGEuYnl0ZUxlbmd0aCA9PT0gMCA/CiAgICAgICAgICAxMDAgOgogICAgICAgICAgTWF0aC5yb3VuZCgocG9zaXRpb24gLyBmaWxlRGF0YS5ieXRlTGVuZ3RoKSAqIDEwMCk7CiAgICAgIHBlcmNlbnQudGV4dENvbnRlbnQgPSBgJHtwZXJjZW50RG9uZX0lIGRvbmVgOwoKICAgIH0gd2hpbGUgKHBvc2l0aW9uIDwgZmlsZURhdGEuYnl0ZUxlbmd0aCk7CiAgfQoKICAvLyBBbGwgZG9uZS4KICB5aWVsZCB7CiAgICByZXNwb25zZTogewogICAgICBhY3Rpb246ICdjb21wbGV0ZScsCiAgICB9CiAgfTsKfQoKc2NvcGUuZ29vZ2xlID0gc2NvcGUuZ29vZ2xlIHx8IHt9OwpzY29wZS5nb29nbGUuY29sYWIgPSBzY29wZS5nb29nbGUuY29sYWIgfHwge307CnNjb3BlLmdvb2dsZS5jb2xhYi5fZmlsZXMgPSB7CiAgX3VwbG9hZEZpbGVzLAogIF91cGxvYWRGaWxlc0NvbnRpbnVlLAp9Owp9KShzZWxmKTsK",
              "ok": true,
              "headers": [
                [
                  "content-type",
                  "application/javascript"
                ]
              ],
              "status": 200,
              "status_text": ""
            }
          },
          "base_uri": "https://localhost:8080/",
          "height": 72
        },
        "id": "9y9-YgefCmA6",
        "outputId": "2ce24540-5078-439d-bff7-62c14193ba70"
      },
      "source": [
        "#Upload kaggle.json file\n",
        "from google.colab import files\n",
        "\n",
        "kaggle_file = files.upload()\n",
        "!mkdir /root/.kaggle\n",
        "!mv kaggle.json /root/.kaggle/kaggle.json\n",
        "!chmod 600 /root/.kaggle/kaggle.json"
      ],
      "execution_count": null,
      "outputs": [
        {
          "output_type": "display_data",
          "data": {
            "text/html": [
              "\n",
              "     <input type=\"file\" id=\"files-d5d52b83-b0de-46e1-a0ff-817021096110\" name=\"files[]\" multiple disabled\n",
              "        style=\"border:none\" />\n",
              "     <output id=\"result-d5d52b83-b0de-46e1-a0ff-817021096110\">\n",
              "      Upload widget is only available when the cell has been executed in the\n",
              "      current browser session. Please rerun this cell to enable.\n",
              "      </output>\n",
              "      <script src=\"/nbextensions/google.colab/files.js\"></script> "
            ],
            "text/plain": [
              "<IPython.core.display.HTML object>"
            ]
          },
          "metadata": {}
        },
        {
          "output_type": "stream",
          "name": "stdout",
          "text": [
            "Saving kaggle.json to kaggle.json\n"
          ]
        }
      ]
    },
    {
      "cell_type": "code",
      "metadata": {
        "id": "LQvsRvcFJCkM"
      },
      "source": [
        "import kaggle\n",
        "from mlxtend.frequent_patterns import apriori\n",
        "from mlxtend.frequent_patterns import association_rules\n",
        "import zipfile\n",
        "import pandas as pd\n",
        "import numpy as np\n",
        "import tweepy\n",
        "from kaggle.api.kaggle_api_extended import KaggleApi\n",
        "from pyspark import Row\n",
        "from pyspark.sql.types import StructType, StructField, LongType\n",
        "from pyspark.sql import functions as F\n",
        "from pyspark.sql.functions import split, col, collect_set\n",
        "from itertools import combinations, product\n",
        "from collections import defaultdict\n",
        "import time"
      ],
      "execution_count": null,
      "outputs": []
    },
    {
      "cell_type": "code",
      "metadata": {
        "id": "7y_m0pg0I2fv"
      },
      "source": [
        "from pyspark.sql import SparkSession\n",
        "from pyspark import SparkConf, SparkContext\n",
        "from pyspark.sql import SQLContext\n",
        "#Create new Spark Context and configuration\n",
        "conf = SparkConf().setAppName(\"MarketBasketAnalysis\")\n",
        "conf = (conf.setMaster('local[*]')\n",
        "        .set('spark.executor.memory', '8G')\n",
        "        .set('spark.driver.memory', '45G')\n",
        "        .set('spark.driver.maxResultSize', '0')\n",
        "        .set(\"spark.sql.execution.arrow.enabled\", \"true\"))\n",
        "sc = SparkContext.getOrCreate(conf=conf)\n",
        "spark = SQLContext(sc)"
      ],
      "execution_count": null,
      "outputs": []
    },
    {
      "cell_type": "code",
      "metadata": {
        "id": "hzYoSHtxJYao"
      },
      "source": [
        "#Define Kaggle api to download data\n",
        "api = KaggleApi()\n",
        "api.authenticate()"
      ],
      "execution_count": null,
      "outputs": []
    },
    {
      "cell_type": "code",
      "metadata": {
        "colab": {
          "base_uri": "https://localhost:8080/"
        },
        "id": "NAvhLSM_JjFU",
        "outputId": "afe42405-f7ea-4aa1-f8d2-dd1e08602ffc"
      },
      "source": [
        "!kaggle datasets download -d ashirwadsangwan/imdb-dataset\n",
        "!unzip imdb-dataset.zip"
      ],
      "execution_count": null,
      "outputs": [
        {
          "output_type": "stream",
          "name": "stdout",
          "text": [
            "Downloading imdb-dataset.zip to /content\n",
            "100% 1.44G/1.44G [00:22<00:00, 91.8MB/s]\n",
            "100% 1.44G/1.44G [00:22<00:00, 70.1MB/s]\n",
            "Archive:  imdb-dataset.zip\n",
            "  inflating: name.basics.tsv.gz      \n",
            "  inflating: name.basics.tsv/name.basics.tsv  \n",
            "  inflating: title.akas.tsv.gz       \n",
            "  inflating: title.akas.tsv/title.akas.tsv  \n",
            "  inflating: title.basics.tsv.gz     \n",
            "  inflating: title.basics.tsv/title.basics.tsv  \n",
            "  inflating: title.principals.tsv.gz  \n",
            "  inflating: title.principals.tsv/title.principals.tsv  \n",
            "  inflating: title.ratings.tsv.gz    \n",
            "  inflating: title.ratings.tsv/title.ratings.tsv  \n"
          ]
        }
      ]
    },
    {
      "cell_type": "markdown",
      "metadata": {
        "id": "vOl92Fl7FKPf"
      },
      "source": [
        "# Exploratory Data Analysis"
      ]
    },
    {
      "cell_type": "code",
      "metadata": {
        "id": "AM9aO3t3KR3l"
      },
      "source": [
        "#Read csv file to spark\n",
        "castCrew = spark.read.csv(\"/content/name.basics.tsv\", sep=r'\\t', header=True, inferSchema=True)\n",
        "movies = spark.read.csv(\"/content/title.basics.tsv\", sep=r'\\t', header=True, inferSchema=True)\n",
        "principals = spark.read.csv(\"/content/title.principals.tsv\", sep=r'\\t', header=True, inferSchema=True)"
      ],
      "execution_count": null,
      "outputs": []
    },
    {
      "cell_type": "code",
      "metadata": {
        "colab": {
          "base_uri": "https://localhost:8080/"
        },
        "id": "t74ZbXg8FM9Y",
        "outputId": "11426459-0e8f-49c8-9022-a626bcd2819a"
      },
      "source": [
        "castCrew.show(5)"
      ],
      "execution_count": null,
      "outputs": [
        {
          "output_type": "stream",
          "name": "stdout",
          "text": [
            "+---------+---------------+---------+---------+--------------------+--------------------+\n",
            "|   nconst|    primaryName|birthYear|deathYear|   primaryProfession|      knownForTitles|\n",
            "+---------+---------------+---------+---------+--------------------+--------------------+\n",
            "|nm0000001|   Fred Astaire|     1899|     1987|soundtrack,actor,...|tt0050419,tt00531...|\n",
            "|nm0000002|  Lauren Bacall|     1924|     2014|  actress,soundtrack|tt0071877,tt01170...|\n",
            "|nm0000003|Brigitte Bardot|     1934|       \\N|actress,soundtrac...|tt0054452,tt00491...|\n",
            "|nm0000004|   John Belushi|     1949|     1982|actor,writer,soun...|tt0077975,tt00725...|\n",
            "|nm0000005| Ingmar Bergman|     1918|     2007|writer,director,a...|tt0069467,tt00509...|\n",
            "+---------+---------------+---------+---------+--------------------+--------------------+\n",
            "only showing top 5 rows\n",
            "\n"
          ]
        }
      ]
    },
    {
      "cell_type": "code",
      "metadata": {
        "colab": {
          "base_uri": "https://localhost:8080/"
        },
        "id": "fH66o1S4IDwe",
        "outputId": "45d5a620-d334-45ef-89d6-e5fa009ad550"
      },
      "source": [
        "movies.show(5)"
      ],
      "execution_count": null,
      "outputs": [
        {
          "output_type": "stream",
          "name": "stdout",
          "text": [
            "+---------+---------+--------------------+--------------------+-------+---------+-------+--------------+--------------------+\n",
            "|   tconst|titleType|        primaryTitle|       originalTitle|isAdult|startYear|endYear|runtimeMinutes|              genres|\n",
            "+---------+---------+--------------------+--------------------+-------+---------+-------+--------------+--------------------+\n",
            "|tt0000001|    short|          Carmencita|          Carmencita|      0|     1894|     \\N|             1|   Documentary,Short|\n",
            "|tt0000002|    short|Le clown et ses c...|Le clown et ses c...|      0|     1892|     \\N|             5|     Animation,Short|\n",
            "|tt0000003|    short|      Pauvre Pierrot|      Pauvre Pierrot|      0|     1892|     \\N|             4|Animation,Comedy,...|\n",
            "|tt0000004|    short|         Un bon bock|         Un bon bock|      0|     1892|     \\N|            \\N|     Animation,Short|\n",
            "|tt0000005|    short|    Blacksmith Scene|    Blacksmith Scene|      0|     1893|     \\N|             1|        Comedy,Short|\n",
            "+---------+---------+--------------------+--------------------+-------+---------+-------+--------------+--------------------+\n",
            "only showing top 5 rows\n",
            "\n"
          ]
        }
      ]
    },
    {
      "cell_type": "code",
      "metadata": {
        "colab": {
          "base_uri": "https://localhost:8080/"
        },
        "id": "Cmv-FD_9IJfo",
        "outputId": "c5f11ad6-cfbf-44d7-ee4d-947770112420"
      },
      "source": [
        "principals.show(5)"
      ],
      "execution_count": null,
      "outputs": [
        {
          "output_type": "stream",
          "name": "stdout",
          "text": [
            "+---------+--------+---------+---------------+--------------------+-----------+\n",
            "|   tconst|ordering|   nconst|       category|                 job| characters|\n",
            "+---------+--------+---------+---------------+--------------------+-----------+\n",
            "|tt0000001|       1|nm1588970|           self|                  \\N|[\"Herself\"]|\n",
            "|tt0000001|       2|nm0005690|       director|                  \\N|         \\N|\n",
            "|tt0000001|       3|nm0374658|cinematographer|director of photo...|         \\N|\n",
            "|tt0000002|       1|nm0721526|       director|                  \\N|         \\N|\n",
            "|tt0000002|       2|nm1335271|       composer|                  \\N|         \\N|\n",
            "+---------+--------+---------+---------------+--------------------+-----------+\n",
            "only showing top 5 rows\n",
            "\n"
          ]
        }
      ]
    },
    {
      "cell_type": "markdown",
      "metadata": {
        "id": "lcNWpSnyJtcE"
      },
      "source": [
        "CreateOrReplaceTempView will create a temporary view of the table on memory it is not persistent at this moment, we can run SQL query on top of that."
      ]
    },
    {
      "cell_type": "code",
      "metadata": {
        "id": "rCpH53DmIMw3"
      },
      "source": [
        "castCrew.createOrReplaceTempView(\"castCrew\")\n",
        "principals.createOrReplaceTempView(\"principals\")\n",
        "movies.createOrReplaceTempView(\"movies\")"
      ],
      "execution_count": null,
      "outputs": []
    },
    {
      "cell_type": "code",
      "metadata": {
        "id": "J-vEIgodIVFg"
      },
      "source": [
        "#From movie table we filter with Movie only using SQL syntax\n",
        "movie_query = '''\n",
        "  SELECT *\n",
        "  From movies\n",
        "  WHERE titleType = 'movie'\n",
        " ''' "
      ],
      "execution_count": null,
      "outputs": []
    },
    {
      "cell_type": "code",
      "metadata": {
        "colab": {
          "base_uri": "https://localhost:8080/"
        },
        "id": "EUARhlI0NQdm",
        "outputId": "12c775c1-da31-4f87-ba27-5ef2688c0a6d"
      },
      "source": [
        "movies = spark.sql(movie_query)\n",
        "movies.show(5)\n",
        "movies.createOrReplaceTempView('movies')"
      ],
      "execution_count": null,
      "outputs": [
        {
          "output_type": "stream",
          "name": "stdout",
          "text": [
            "+---------+---------+--------------------+--------------------+-------+---------+-------+--------------+--------------------+\n",
            "|   tconst|titleType|        primaryTitle|       originalTitle|isAdult|startYear|endYear|runtimeMinutes|              genres|\n",
            "+---------+---------+--------------------+--------------------+-------+---------+-------+--------------+--------------------+\n",
            "|tt0000009|    movie|          Miss Jerry|          Miss Jerry|      0|     1894|     \\N|            45|             Romance|\n",
            "|tt0000147|    movie|The Corbett-Fitzs...|The Corbett-Fitzs...|      0|     1897|     \\N|            20|Documentary,News,...|\n",
            "|tt0000335|    movie|Soldiers of the C...|Soldiers of the C...|      0|     1900|     \\N|            \\N|     Biography,Drama|\n",
            "|tt0000502|    movie|            Bohemios|            Bohemios|      0|     1905|     \\N|           100|                  \\N|\n",
            "|tt0000574|    movie|The Story of the ...|The Story of the ...|      0|     1906|     \\N|            70|Biography,Crime,D...|\n",
            "+---------+---------+--------------------+--------------------+-------+---------+-------+--------------+--------------------+\n",
            "only showing top 5 rows\n",
            "\n"
          ]
        }
      ]
    },
    {
      "cell_type": "code",
      "metadata": {
        "id": "zFtuk5asNZu8"
      },
      "source": [
        "#From Principals table we filter with actor/actress using SQL syntax\n",
        "characters_query = '''\n",
        "  SELECT *\n",
        "  FROM principals\n",
        "  WHERE (category = 'actor') OR (category = 'actress')\n",
        " '''"
      ],
      "execution_count": null,
      "outputs": []
    },
    {
      "cell_type": "code",
      "metadata": {
        "colab": {
          "base_uri": "https://localhost:8080/"
        },
        "id": "XuZN-E77ORxU",
        "outputId": "f4005dbf-9637-498b-f134-c2c1ad531c0c"
      },
      "source": [
        "principals = spark.sql(characters_query)\n",
        "principals.show(5)\n",
        "principals.createOrReplaceTempView('principals')"
      ],
      "execution_count": null,
      "outputs": [
        {
          "output_type": "stream",
          "name": "stdout",
          "text": [
            "+---------+--------+---------+--------+---+----------------+\n",
            "|   tconst|ordering|   nconst|category|job|      characters|\n",
            "+---------+--------+---------+--------+---+----------------+\n",
            "|tt0000005|       1|nm0443482|   actor| \\N|  [\"Blacksmith\"]|\n",
            "|tt0000005|       2|nm0653042|   actor| \\N|   [\"Assistant\"]|\n",
            "|tt0000007|       1|nm0179163|   actor| \\N|              \\N|\n",
            "|tt0000007|       2|nm0183947|   actor| \\N|              \\N|\n",
            "|tt0000008|       1|nm0653028|   actor| \\N|[\"Sneezing Man\"]|\n",
            "+---------+--------+---------+--------+---+----------------+\n",
            "only showing top 5 rows\n",
            "\n"
          ]
        }
      ]
    },
    {
      "cell_type": "code",
      "metadata": {
        "id": "Py86HU_POZRD"
      },
      "source": [
        ""
      ],
      "execution_count": null,
      "outputs": []
    },
    {
      "cell_type": "markdown",
      "metadata": {
        "id": "AInYnDSjXH65"
      },
      "source": [
        "We now retrieve table that contains tconst and nconst \\\\\n",
        "LEFT JOIN returns all the rows of the table on the left side of the join and matching rows for the table on the right side of join. The rows for which there is no matching row on right side, the result-set will contain null"
      ]
    },
    {
      "cell_type": "code",
      "metadata": {
        "id": "g-M-rDpoXLgu"
      },
      "source": [
        "query =  \"\"\"\n",
        "SELECT p.tconst, p.nconst\n",
        "            FROM principals AS p LEFT JOIN movies as m ON p.tconst == m.tconst                       \n",
        "            WHERE (p.category == 'actor' OR p.category == 'actress')  AND m.titleType == 'movie'\n",
        "\"\"\""
      ],
      "execution_count": null,
      "outputs": []
    },
    {
      "cell_type": "code",
      "metadata": {
        "id": "OnNXCvlbZtEn"
      },
      "source": [
        "res = spark.sql(query)\n",
        "baskets = res.groupBy('tconst').agg(collect_set('nconst').alias('items'))"
      ],
      "execution_count": null,
      "outputs": []
    },
    {
      "cell_type": "code",
      "metadata": {
        "colab": {
          "base_uri": "https://localhost:8080/"
        },
        "id": "0eSqxXGkG4Zi",
        "outputId": "dcf64518-5055-4aaf-af89-f853a1ffd99b"
      },
      "source": [
        "baskets.show(5, False)"
      ],
      "execution_count": null,
      "outputs": [
        {
          "output_type": "stream",
          "name": "stdout",
          "text": [
            "+---------+---------------------------------------------------------------------------------------------------+\n",
            "|tconst   |items                                                                                              |\n",
            "+---------+---------------------------------------------------------------------------------------------------+\n",
            "|tt0002591|[nm0029806, nm0509573]                                                                             |\n",
            "|tt0003689|[nm0910564, nm0527801, nm0399988, nm0101071, nm0694718, nm0728289, nm0585503]                      |\n",
            "|tt0004272|[nm0368875, nm0092665, nm0492302, nm0445507, nm0776747, nm0383278, nm0192062, nm0285643, nm0793189]|\n",
            "|tt0004336|[nm0268437, nm0811293, nm0102718, nm0190516, nm0478359]                                            |\n",
            "|tt0005209|[nm0593671, nm0394389, nm0203439, nm0909648, nm0863863, nm0269671]                                 |\n",
            "+---------+---------------------------------------------------------------------------------------------------+\n",
            "only showing top 5 rows\n",
            "\n"
          ]
        }
      ]
    },
    {
      "cell_type": "code",
      "metadata": {
        "colab": {
          "base_uri": "https://localhost:8080/"
        },
        "id": "sT85dGL8ZzaV",
        "outputId": "38f96a29-c2d5-45a2-fd14-6b874bef6e99"
      },
      "source": [
        "baskets.printSchema()"
      ],
      "execution_count": null,
      "outputs": [
        {
          "output_type": "stream",
          "name": "stdout",
          "text": [
            "root\n",
            " |-- tconst: string (nullable = true)\n",
            " |-- items: array (nullable = false)\n",
            " |    |-- element: string (containsNull = false)\n",
            "\n"
          ]
        }
      ]
    },
    {
      "cell_type": "code",
      "metadata": {
        "id": "R_3LNglUZ4kO"
      },
      "source": [
        ""
      ],
      "execution_count": null,
      "outputs": []
    },
    {
      "cell_type": "markdown",
      "metadata": {
        "id": "c9BmE-ifdA8U"
      },
      "source": [
        "# A-Priori"
      ]
    },
    {
      "cell_type": "code",
      "metadata": {
        "id": "PUl6sz6qdCeX"
      },
      "source": [
        "indexed_rdd = baskets.select('items').rdd.flatMap(list)"
      ],
      "execution_count": null,
      "outputs": []
    },
    {
      "cell_type": "code",
      "metadata": {
        "id": "Evek_TGJ5yR2"
      },
      "source": [
        "count = indexed_rdd.count()"
      ],
      "execution_count": null,
      "outputs": []
    },
    {
      "cell_type": "code",
      "metadata": {
        "colab": {
          "base_uri": "https://localhost:8080/"
        },
        "id": "M6JZre-j0LAc",
        "outputId": "b48bb2d9-9958-4071-b573-c20935338416"
      },
      "source": [
        "count"
      ],
      "execution_count": null,
      "outputs": [
        {
          "output_type": "execute_result",
          "data": {
            "text/plain": [
              "393656"
            ]
          },
          "metadata": {},
          "execution_count": 10
        }
      ]
    },
    {
      "cell_type": "code",
      "metadata": {
        "id": "KSzavQggdKI5"
      },
      "source": [
        "index_flatted = indexed_rdd.flatMap(list)"
      ],
      "execution_count": null,
      "outputs": []
    },
    {
      "cell_type": "code",
      "metadata": {
        "colab": {
          "base_uri": "https://localhost:8080/"
        },
        "id": "TwMLymSudet6",
        "outputId": "ec8d913d-80ab-4d30-9dcf-51a59a295766"
      },
      "source": [
        "index_flatted.take(5)"
      ],
      "execution_count": null,
      "outputs": [
        {
          "output_type": "execute_result",
          "data": {
            "text/plain": [
              "['nm0161366', 'nm0865178', 'nm0001908', 'nm0607104', 'nm0639631']"
            ]
          },
          "metadata": {},
          "execution_count": 19
        }
      ]
    },
    {
      "cell_type": "code",
      "metadata": {
        "id": "XZoKyXcz1ZCP"
      },
      "source": [
        "def create_singletons (rdd): \n",
        "  #generates a list of actors, map them to 1 to initialize the counter for each \n",
        "  #actor and update the counter for every occurrence\n",
        "  singletons = rdd.flatMap(list) \\\n",
        "                  .map(lambda item: (item, 1)) \\\n",
        "                  .reduceByKey(lambda x, y: x+y)\n",
        "  return(singletons)"
      ],
      "execution_count": null,
      "outputs": []
    },
    {
      "cell_type": "code",
      "metadata": {
        "id": "gH8dpi4Tdg1E"
      },
      "source": [
        "singleton = indexed_rdd.map(lambda item: (item, 1)).reduceByKey(lambda a,b:a +b).filter(lambda item: item[1] >= 150).map(lambda item: (item[0]))"
      ],
      "execution_count": null,
      "outputs": []
    },
    {
      "cell_type": "code",
      "metadata": {
        "id": "D-APaXQFe8Id"
      },
      "source": [
        "singleton = create_singletons(indexed_rdd) \\\n",
        "              .filter(lambda item: item[1] >= 140) \\\n",
        "              .map(lambda item: (item[0])) "
      ],
      "execution_count": null,
      "outputs": []
    },
    {
      "cell_type": "code",
      "metadata": {
        "id": "XnZiQ5zP09FE",
        "colab": {
          "base_uri": "https://localhost:8080/"
        },
        "outputId": "090aa0e0-4eda-4f3b-b702-7e179833caba"
      },
      "source": [
        "singleton.count()"
      ],
      "execution_count": null,
      "outputs": [
        {
          "output_type": "execute_result",
          "data": {
            "text/plain": [
              "268"
            ]
          },
          "metadata": {},
          "execution_count": 19
        }
      ]
    },
    {
      "cell_type": "code",
      "metadata": {
        "id": "VY22J7bfigTw"
      },
      "source": [
        " "
      ],
      "execution_count": null,
      "outputs": []
    },
    {
      "cell_type": "code",
      "metadata": {
        "id": "6qX7E-yyeFxK"
      },
      "source": [
        "def getFrequentItemsets(items, c):\n",
        "  items = items.map(lambda item: list(item[0])) \n",
        "  #generate singletons\n",
        "  singleton = create_singletons(items).map(lambda item: [item[0]]) \n",
        "  #create an empty list that contain the new possible combinations\n",
        "  items_set = [] \n",
        "  for comb in list(product(items.toLocalIterator(), singleton.toLocalIterator())):\n",
        "    comb = comb[0]+comb[1] \n",
        "    comb_set = sorted(set().union(comb))\n",
        "    if (len(comb_set) == c) and comb_set not in items_set: \n",
        "        items_set.append(comb_set) \n",
        "  return(items_set)\n",
        "\n",
        "def apriori(baskets, support_value):\n",
        "  print(\"Start apriori...\")\n",
        "  apriori_frequent=[]\n",
        "  print(\"Create singleton...\")\n",
        "  singleton= baskets.flatMap(lambda line: line).map(lambda item: (item , 1)).reduceByKey(lambda a,b: (a+b))\n",
        "  print(\"Complete creating singleton...\")\n",
        "  suppRdd= singleton.filter(lambda item: item[1] >= support_value)\n",
        "  suppRdd= suppRdd.map(lambda item: (item[0]))\n",
        "  #find the possible pairs  \n",
        "  print(\"start creating possible_combinations\")\n",
        "  possible_combinations = list(combinations(suppRdd.toLocalIterator(), 2))\n",
        "  print(\"possible_combinations created\")\n",
        "  #initialize support as empty rdd\n",
        "  print(\"support start\")\n",
        "  support_rdd = sc.parallelize([])\n",
        "  print(\"support done\")\n",
        "  baskets.cache()\n",
        "  print(\"baskets cache done\")\n",
        "  c=2\n",
        "  print(\"start while loop...\")\n",
        "  while (len(possible_combinations) > 0):\n",
        "    #check if the possible items are frequents in the dataset\n",
        "    frequent_items = baskets.flatMap(lambda cast: [(tuple(item), 1) for item in possible_combinations if set(list(item)).issubset(set(cast))]) \\\n",
        "                    .reduceByKey(lambda a, b: a+b) \\\n",
        "                    .filter(lambda item: item[1] >= support_value)\n",
        "    print(\"frequent_items done\")\n",
        "    #add the frequent items and their occurrencies to support rdd\n",
        "    support_rdd = support_rdd.union(frequent_items)\n",
        "    print(\"support union done\")\n",
        "    #generates new items from the last frequent items found using the function defined above\n",
        "    possible_combinations = getFrequentItemsets(frequent_items, c)\n",
        "    print(\"getFrequentItemsets function done\")\n",
        "    c += 1\n",
        "    #print(\"Len com: \"+str(len(possible_combinations)))\n",
        "    print(\"c: \" + str(c))\n",
        "\n",
        "  return support_rdd"
      ],
      "execution_count": null,
      "outputs": []
    },
    {
      "cell_type": "code",
      "metadata": {
        "colab": {
          "base_uri": "https://localhost:8080/"
        },
        "id": "qxzCgPbK0MKW",
        "outputId": "6240d336-05fb-4a85-b386-42e610133d9e"
      },
      "source": [
        "start_time = time.time()\n",
        "aprioriResult = apriori(indexed_rdd, count*0.0003)\n",
        "end_time = time.time()\n",
        "apriori_time = end_time - start_time"
      ],
      "execution_count": null,
      "outputs": [
        {
          "output_type": "stream",
          "name": "stdout",
          "text": [
            "Start apriori...\n",
            "Create singleton...\n",
            "Complete creating singleton...\n",
            "start creating possible_combinations\n",
            "possible_combinations created\n",
            "support start\n",
            "support done\n",
            "baskets cache done\n",
            "start while loop...\n",
            "frequent_items done\n",
            "support union done\n",
            "Start function getFrequentItemsets\n",
            "getFrequentItemsets candidateItemsets.map done\n",
            "getFrequentItemsets singleton done\n",
            "getFrequentItemsets product_iterator running...\n",
            "getFrequentItemsets start for loop\n",
            "getFrequentItemsets for comb length: 3\n",
            "getFrequentItemsets for comb length: 3\n",
            "getFrequentItemsets for comb length: 3\n",
            "getFrequentItemsets for comb length: 3\n",
            "getFrequentItemsets for comb length: 3\n",
            "getFrequentItemsets for comb length: 3\n",
            "getFrequentItemsets for comb length: 3\n",
            "getFrequentItemsets for comb length: 3\n",
            "getFrequentItemsets for comb length: 3\n",
            "getFrequentItemsets for comb length: 3\n",
            "getFrequentItemsets for comb length: 3\n",
            "getFrequentItemsets for comb length: 3\n",
            "getFrequentItemsets for comb length: 3\n",
            "getFrequentItemsets for comb length: 3\n",
            "getFrequentItemsets for comb length: 3\n",
            "getFrequentItemsets for comb length: 3\n",
            "getFrequentItemsets for comb length: 3\n",
            "getFrequentItemsets for comb length: 3\n",
            "getFrequentItemsets for comb length: 3\n",
            "getFrequentItemsets for comb length: 3\n",
            "getFrequentItemsets for comb length: 3\n",
            "getFrequentItemsets for comb length: 3\n",
            "getFrequentItemsets for comb length: 3\n",
            "getFrequentItemsets for comb length: 3\n",
            "getFrequentItemsets for comb length: 3\n",
            "getFrequentItemsets for comb length: 3\n",
            "getFrequentItemsets for comb length: 3\n",
            "getFrequentItemsets for comb length: 3\n",
            "getFrequentItemsets for comb length: 3\n",
            "getFrequentItemsets for comb length: 3\n",
            "getFrequentItemsets for comb length: 3\n",
            "getFrequentItemsets for comb length: 3\n",
            "getFrequentItemsets for comb length: 3\n",
            "getFrequentItemsets for comb length: 3\n",
            "getFrequentItemsets for comb length: 3\n",
            "getFrequentItemsets for comb length: 3\n",
            "getFrequentItemsets for comb length: 3\n",
            "getFrequentItemsets for comb length: 3\n",
            "getFrequentItemsets for comb length: 3\n",
            "getFrequentItemsets for comb length: 3\n",
            "getFrequentItemsets for comb length: 3\n",
            "getFrequentItemsets for comb length: 3\n",
            "getFrequentItemsets for comb length: 3\n",
            "getFrequentItemsets for comb length: 3\n",
            "getFrequentItemsets for comb length: 3\n",
            "getFrequentItemsets for comb length: 3\n",
            "getFrequentItemsets for comb length: 3\n",
            "getFrequentItemsets for comb length: 3\n",
            "getFrequentItemsets function done\n",
            "c: 3\n",
            "frequent_items done\n",
            "support union done\n",
            "Start function getFrequentItemsets\n",
            "getFrequentItemsets candidateItemsets.map done\n",
            "getFrequentItemsets singleton done\n",
            "getFrequentItemsets product_iterator running...\n",
            "getFrequentItemsets start for loop\n",
            "getFrequentItemsets for comb length: 3\n",
            "getFrequentItemsets for comb length: 3\n",
            "getFrequentItemsets for comb length: 3\n",
            "getFrequentItemsets for comb length: 3\n",
            "getFrequentItemsets for comb length: 3\n",
            "getFrequentItemsets for comb length: 3\n",
            "getFrequentItemsets for comb length: 3\n",
            "getFrequentItemsets for comb length: 3\n",
            "getFrequentItemsets for comb length: 3\n",
            "getFrequentItemsets for comb length: 3\n",
            "getFrequentItemsets for comb length: 3\n",
            "getFrequentItemsets for comb length: 3\n",
            "getFrequentItemsets for comb length: 3\n",
            "getFrequentItemsets for comb length: 3\n",
            "getFrequentItemsets for comb length: 3\n",
            "getFrequentItemsets for comb length: 3\n",
            "getFrequentItemsets for comb length: 3\n",
            "getFrequentItemsets for comb length: 3\n",
            "getFrequentItemsets for comb length: 3\n",
            "getFrequentItemsets for comb length: 3\n",
            "getFrequentItemsets for comb length: 3\n",
            "getFrequentItemsets for comb length: 3\n",
            "getFrequentItemsets for comb length: 3\n",
            "getFrequentItemsets for comb length: 3\n",
            "getFrequentItemsets for comb length: 3\n",
            "getFrequentItemsets for comb length: 3\n",
            "getFrequentItemsets for comb length: 3\n",
            "getFrequentItemsets for comb length: 3\n",
            "getFrequentItemsets for comb length: 3\n",
            "getFrequentItemsets for comb length: 3\n",
            "getFrequentItemsets for comb length: 3\n",
            "getFrequentItemsets for comb length: 3\n",
            "getFrequentItemsets for comb length: 3\n",
            "getFrequentItemsets for comb length: 3\n",
            "getFrequentItemsets for comb length: 3\n",
            "getFrequentItemsets for comb length: 3\n",
            "getFrequentItemsets for comb length: 3\n",
            "getFrequentItemsets for comb length: 3\n",
            "getFrequentItemsets for comb length: 3\n",
            "getFrequentItemsets for comb length: 3\n",
            "getFrequentItemsets for comb length: 3\n",
            "getFrequentItemsets for comb length: 3\n",
            "getFrequentItemsets for comb length: 3\n",
            "getFrequentItemsets for comb length: 3\n",
            "getFrequentItemsets for comb length: 3\n",
            "getFrequentItemsets for comb length: 3\n",
            "getFrequentItemsets for comb length: 3\n",
            "getFrequentItemsets for comb length: 3\n",
            "getFrequentItemsets function done\n",
            "c: 4\n",
            "frequent_items done\n",
            "support union done\n",
            "Start function getFrequentItemsets\n",
            "getFrequentItemsets candidateItemsets.map done\n",
            "getFrequentItemsets singleton done\n",
            "getFrequentItemsets product_iterator running...\n",
            "getFrequentItemsets start for loop\n",
            "getFrequentItemsets function done\n",
            "c: 5\n"
          ]
        }
      ]
    },
    {
      "cell_type": "code",
      "metadata": {
        "colab": {
          "base_uri": "https://localhost:8080/"
        },
        "id": "bJfw4hfCWJ9o",
        "outputId": "d0ff3a0d-8e1c-4380-a690-b3b2f0a24a1b"
      },
      "source": [
        "aprioriResult.collect()"
      ],
      "execution_count": null,
      "outputs": [
        {
          "output_type": "execute_result",
          "data": {
            "text/plain": [
              "[(('nm0623427', 'nm0006982'), 237),\n",
              " (('nm0006982', 'nm0619779'), 122),\n",
              " (('nm0006982', 'nm0419653'), 162),\n",
              " (('nm0046850', 'nm0006982'), 169),\n",
              " (('nm2082516', 'nm0648803'), 147),\n",
              " (('nm2373718', 'nm0648803'), 126),\n",
              " (('nm0006982', 'nm0046850'), 169),\n",
              " (('nm0648803', 'nm2082516'), 147),\n",
              " (('nm0006982', 'nm0619779'), 122),\n",
              " (('nm0006982', 'nm0623427'), 237),\n",
              " (('nm0648803', 'nm2373718'), 126),\n",
              " (('nm0006982', 'nm0419653'), 162)]"
            ]
          },
          "metadata": {},
          "execution_count": 16
        }
      ]
    },
    {
      "cell_type": "code",
      "metadata": {
        "id": "d4BAfOwMFQr5"
      },
      "source": [
        "end_time - start_time"
      ],
      "execution_count": null,
      "outputs": []
    },
    {
      "cell_type": "markdown",
      "metadata": {
        "id": "G6NmXWdYboFQ"
      },
      "source": [
        "# FP GROWTH"
      ]
    },
    {
      "cell_type": "code",
      "metadata": {
        "id": "3IMN5dqMGabP"
      },
      "source": [
        "from pyspark.ml.fpm import FPGrowth\n",
        "start_time = time.time()\n",
        "fp_growth = FPGrowth(itemsCol=\"items\", minSupport= 0.0003)\n",
        "fp_growth = fp_growth.fit(baskets)\n",
        "end_time = time.time()"
      ],
      "execution_count": null,
      "outputs": []
    },
    {
      "cell_type": "code",
      "metadata": {
        "colab": {
          "base_uri": "https://localhost:8080/"
        },
        "id": "p_5sA_45STW7",
        "outputId": "f9fcd7ae-e2ed-43ee-eaf1-29f1565d63b0"
      },
      "source": [
        "exe_time = end_time - start_time\n",
        "print(exe_time)"
      ],
      "execution_count": null,
      "outputs": [
        {
          "output_type": "stream",
          "name": "stdout",
          "text": [
            "0.05721449851989746\n"
          ]
        }
      ]
    },
    {
      "cell_type": "code",
      "metadata": {
        "colab": {
          "base_uri": "https://localhost:8080/"
        },
        "id": "y6WONpSoc7HT",
        "outputId": "5f1b4fa9-a895-41c4-fa09-faf8712531e9"
      },
      "source": [
        "fp_growth.freqItemsets.show(10, False)"
      ],
      "execution_count": null,
      "outputs": [
        {
          "output_type": "stream",
          "name": "stdout",
          "text": [
            "+-----------+----+\n",
            "|items      |freq|\n",
            "+-----------+----+\n",
            "|[nm1388202]|153 |\n",
            "|[nm0430646]|120 |\n",
            "|[nm0103977]|798 |\n",
            "|[nm0006982]|585 |\n",
            "|[nm0436922]|152 |\n",
            "|[nm0408381]|120 |\n",
            "|[nm0648803]|565 |\n",
            "|[nm0405977]|152 |\n",
            "|[nm0576495]|120 |\n",
            "|[nm0579663]|120 |\n",
            "+-----------+----+\n",
            "only showing top 10 rows\n",
            "\n"
          ]
        }
      ]
    },
    {
      "cell_type": "code",
      "metadata": {
        "id": "6iT1PR13Nu9y"
      },
      "source": [
        "fp_growth_freqItemsets = fp_growth.freqItemsets"
      ],
      "execution_count": null,
      "outputs": []
    },
    {
      "cell_type": "code",
      "metadata": {
        "colab": {
          "base_uri": "https://localhost:8080/"
        },
        "id": "wwX9WEC9fPRp",
        "outputId": "bc86d59d-29e9-4c9c-f091-ecd497a5f5a3"
      },
      "source": [
        "fp_growth_freqItemsets.filter(\"size(items) >= 2\").show(10, False)"
      ],
      "execution_count": null,
      "outputs": [
        {
          "output_type": "stream",
          "name": "stdout",
          "text": [
            "+----------------------+----+\n",
            "|items                 |freq|\n",
            "+----------------------+----+\n",
            "|[nm0623427, nm0006982]|237 |\n",
            "|[nm0046850, nm0006982]|169 |\n",
            "|[nm0419653, nm0006982]|162 |\n",
            "|[nm0619779, nm0006982]|122 |\n",
            "|[nm2373718, nm0648803]|126 |\n",
            "|[nm2082516, nm0648803]|147 |\n",
            "+----------------------+----+\n",
            "\n"
          ]
        }
      ]
    },
    {
      "cell_type": "code",
      "metadata": {
        "id": "gKFXBNq7g9p-"
      },
      "source": [
        "ar = fp_growth.associationRules"
      ],
      "execution_count": null,
      "outputs": []
    },
    {
      "cell_type": "code",
      "metadata": {
        "colab": {
          "base_uri": "https://localhost:8080/"
        },
        "id": "FB-QqfE03yxZ",
        "outputId": "74bbc0a3-45f4-4fc4-d5ea-f242b2d79c92"
      },
      "source": [
        "ar.show(10, False)"
      ],
      "execution_count": null,
      "outputs": [
        {
          "output_type": "stream",
          "name": "stdout",
          "text": [
            "+-----------+-----------+------------------+-----------------+--------------------+\n",
            "|antecedent |consequent |confidence        |lift             |support             |\n",
            "+-----------+-----------+------------------+-----------------+--------------------+\n",
            "|[nm2082516]|[nm0648803]|0.9130434782608695|636.1505194305502|3.734224805413864E-4|\n",
            "|[nm2373718]|[nm0648803]|0.984375          |685.849778761062 |3.200764118926169E-4|\n",
            "+-----------+-----------+------------------+-----------------+--------------------+\n",
            "\n"
          ]
        }
      ]
    },
    {
      "cell_type": "code",
      "metadata": {
        "colab": {
          "base_uri": "https://localhost:8080/"
        },
        "id": "y6ZtZLnO310V",
        "outputId": "3cab8957-d7df-4547-aa12-4c63817c5112"
      },
      "source": [
        "count*0.0003"
      ],
      "execution_count": null,
      "outputs": [
        {
          "output_type": "execute_result",
          "data": {
            "text/plain": [
              "118.09679999999999"
            ]
          },
          "metadata": {},
          "execution_count": 17
        }
      ]
    },
    {
      "cell_type": "code",
      "metadata": {
        "colab": {
          "base_uri": "https://localhost:8080/"
        },
        "id": "B-6rd201Gr2k",
        "outputId": "62e7949b-7ade-44de-a7a0-ba1bab66f4b8"
      },
      "source": [
        "baskets.count()"
      ],
      "execution_count": null,
      "outputs": [
        {
          "output_type": "execute_result",
          "data": {
            "text/plain": [
              "393656"
            ]
          },
          "metadata": {},
          "execution_count": 18
        }
      ]
    },
    {
      "cell_type": "code",
      "metadata": {
        "colab": {
          "base_uri": "https://localhost:8080/"
        },
        "id": "qnlmLoh6G0lK",
        "outputId": "fd525200-59b3-48e4-ea33-48185a3866ee"
      },
      "source": [
        "393656 * 0.0003"
      ],
      "execution_count": null,
      "outputs": [
        {
          "output_type": "execute_result",
          "data": {
            "text/plain": [
              "118.09679999999999"
            ]
          },
          "metadata": {},
          "execution_count": 3
        }
      ]
    },
    {
      "cell_type": "code",
      "metadata": {
        "id": "De0pMqmfHJYb"
      },
      "source": [
        ""
      ],
      "execution_count": null,
      "outputs": []
    }
  ]
}